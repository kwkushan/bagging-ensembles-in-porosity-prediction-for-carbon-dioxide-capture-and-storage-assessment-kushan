{
 "cells": [
  {
   "cell_type": "markdown",
   "id": "ab04c356",
   "metadata": {},
   "source": [
    "#### Reading Data"
   ]
  },
  {
   "cell_type": "code",
   "execution_count": 1,
   "id": "aaf06a13",
   "metadata": {},
   "outputs": [],
   "source": [
    "import numpy as np # for array operations and for mean absolute relative error\n",
    "import pandas as pd # for working with DataFrames"
   ]
  },
  {
   "cell_type": "code",
   "execution_count": 2,
   "id": "e5568574",
   "metadata": {},
   "outputs": [
    {
     "data": {
      "text/html": [
       "<div>\n",
       "<style scoped>\n",
       "    .dataframe tbody tr th:only-of-type {\n",
       "        vertical-align: middle;\n",
       "    }\n",
       "\n",
       "    .dataframe tbody tr th {\n",
       "        vertical-align: top;\n",
       "    }\n",
       "\n",
       "    .dataframe thead th {\n",
       "        text-align: right;\n",
       "    }\n",
       "</style>\n",
       "<table border=\"1\" class=\"dataframe\">\n",
       "  <thead>\n",
       "    <tr style=\"text-align: right;\">\n",
       "      <th></th>\n",
       "      <th>GR</th>\n",
       "      <th>NPHI</th>\n",
       "      <th>LLD</th>\n",
       "      <th>CAL</th>\n",
       "      <th>PE</th>\n",
       "      <th>DEPTH</th>\n",
       "      <th>PHIF</th>\n",
       "    </tr>\n",
       "  </thead>\n",
       "  <tbody>\n",
       "    <tr>\n",
       "      <th>0</th>\n",
       "      <td>100.584839</td>\n",
       "      <td>9.717820</td>\n",
       "      <td>10.088133</td>\n",
       "      <td>8.214933</td>\n",
       "      <td>2.641247</td>\n",
       "      <td>1388.0</td>\n",
       "      <td>16.720</td>\n",
       "    </tr>\n",
       "    <tr>\n",
       "      <th>1</th>\n",
       "      <td>90.719633</td>\n",
       "      <td>10.742601</td>\n",
       "      <td>8.850653</td>\n",
       "      <td>8.214862</td>\n",
       "      <td>2.608124</td>\n",
       "      <td>1388.1</td>\n",
       "      <td>9.976</td>\n",
       "    </tr>\n",
       "    <tr>\n",
       "      <th>2</th>\n",
       "      <td>85.966671</td>\n",
       "      <td>11.569975</td>\n",
       "      <td>8.250872</td>\n",
       "      <td>8.214865</td>\n",
       "      <td>2.602324</td>\n",
       "      <td>1388.2</td>\n",
       "      <td>10.520</td>\n",
       "    </tr>\n",
       "    <tr>\n",
       "      <th>3</th>\n",
       "      <td>84.310091</td>\n",
       "      <td>12.136198</td>\n",
       "      <td>8.087051</td>\n",
       "      <td>8.214863</td>\n",
       "      <td>2.601919</td>\n",
       "      <td>1388.3</td>\n",
       "      <td>10.730</td>\n",
       "    </tr>\n",
       "    <tr>\n",
       "      <th>4</th>\n",
       "      <td>84.286258</td>\n",
       "      <td>12.447312</td>\n",
       "      <td>8.162846</td>\n",
       "      <td>8.214900</td>\n",
       "      <td>2.605344</td>\n",
       "      <td>1388.4</td>\n",
       "      <td>10.660</td>\n",
       "    </tr>\n",
       "  </tbody>\n",
       "</table>\n",
       "</div>"
      ],
      "text/plain": [
       "           GR       NPHI        LLD       CAL        PE   DEPTH    PHIF\n",
       "0  100.584839   9.717820  10.088133  8.214933  2.641247  1388.0  16.720\n",
       "1   90.719633  10.742601   8.850653  8.214862  2.608124  1388.1   9.976\n",
       "2   85.966671  11.569975   8.250872  8.214865  2.602324  1388.2  10.520\n",
       "3   84.310091  12.136198   8.087051  8.214863  2.601919  1388.3  10.730\n",
       "4   84.286258  12.447312   8.162846  8.214900  2.605344  1388.4  10.660"
      ]
     },
     "execution_count": 2,
     "metadata": {},
     "output_type": "execute_result"
    }
   ],
   "source": [
    "df = pd.read_csv('porocal.csv')\n",
    "df.head()"
   ]
  },
  {
   "cell_type": "code",
   "execution_count": 3,
   "id": "4d8efd78",
   "metadata": {},
   "outputs": [
    {
     "data": {
      "text/plain": [
       "(921, 7)"
      ]
     },
     "execution_count": 3,
     "metadata": {},
     "output_type": "execute_result"
    }
   ],
   "source": [
    "df.shape"
   ]
  },
  {
   "cell_type": "code",
   "execution_count": 4,
   "id": "2b95e03f",
   "metadata": {},
   "outputs": [],
   "source": [
    "X = df.drop(['DEPTH','PHIF'], axis=1) # Features\n",
    "y = df['PHIF']  # Target"
   ]
  },
  {
   "cell_type": "markdown",
   "id": "9fe8efe8",
   "metadata": {},
   "source": [
    "#### Random Forest Regression Model"
   ]
  },
  {
   "cell_type": "code",
   "execution_count": 5,
   "id": "b81ec601",
   "metadata": {},
   "outputs": [],
   "source": [
    "from sklearn.inspection import permutation_importance\n",
    "from sklearn.metrics import mean_squared_error\n",
    "from sklearn.model_selection import GridSearchCV, train_test_split\n",
    "from sklearn.ensemble import ExtraTreesRegressor\n",
    "import time\n",
    "from sklearn.metrics import r2_score\n",
    "from sklearn import metrics \n",
    "from sklearn.model_selection import cross_val_score, KFold"
   ]
  },
  {
   "cell_type": "markdown",
   "id": "c72bb444",
   "metadata": {},
   "source": [
    "Data split for test set"
   ]
  },
  {
   "cell_type": "code",
   "execution_count": 6,
   "id": "f5d1e02e",
   "metadata": {},
   "outputs": [],
   "source": [
    "X_train, X_test, y_train, y_test = train_test_split(X, y, test_size=0.2, random_state=0)"
   ]
  },
  {
   "cell_type": "code",
   "execution_count": 7,
   "id": "fc8f3574",
   "metadata": {},
   "outputs": [
    {
     "data": {
      "text/plain": [
       "(736, 5)"
      ]
     },
     "execution_count": 7,
     "metadata": {},
     "output_type": "execute_result"
    }
   ],
   "source": [
    "X_train.shape"
   ]
  },
  {
   "cell_type": "code",
   "execution_count": 8,
   "id": "aee253fe",
   "metadata": {},
   "outputs": [
    {
     "data": {
      "text/plain": [
       "(736,)"
      ]
     },
     "execution_count": 8,
     "metadata": {},
     "output_type": "execute_result"
    }
   ],
   "source": [
    "y_train.shape"
   ]
  },
  {
   "cell_type": "code",
   "execution_count": 9,
   "id": "fc81474e",
   "metadata": {},
   "outputs": [
    {
     "data": {
      "text/plain": [
       "(185, 5)"
      ]
     },
     "execution_count": 9,
     "metadata": {},
     "output_type": "execute_result"
    }
   ],
   "source": [
    "X_test.shape"
   ]
  },
  {
   "cell_type": "code",
   "execution_count": 10,
   "id": "7ef912a0",
   "metadata": {},
   "outputs": [
    {
     "data": {
      "text/plain": [
       "(185,)"
      ]
     },
     "execution_count": 10,
     "metadata": {},
     "output_type": "execute_result"
    }
   ],
   "source": [
    "y_test.shape"
   ]
  },
  {
   "cell_type": "code",
   "execution_count": 11,
   "id": "cc0f6a42",
   "metadata": {},
   "outputs": [],
   "source": [
    "etr=ExtraTreesRegressor(random_state=0) #random forest regression model"
   ]
  },
  {
   "cell_type": "code",
   "execution_count": 12,
   "id": "c4065518",
   "metadata": {},
   "outputs": [],
   "source": [
    "kfold = KFold(n_splits=10, shuffle=True, random_state=0)"
   ]
  },
  {
   "cell_type": "code",
   "execution_count": 13,
   "id": "9686664a",
   "metadata": {},
   "outputs": [],
   "source": [
    "cross_val_score = cross_val_score(etr, X_train, y_train, cv=kfold)"
   ]
  },
  {
   "cell_type": "code",
   "execution_count": 14,
   "id": "1fc187ab",
   "metadata": {},
   "outputs": [
    {
     "data": {
      "text/plain": [
       "array([0.91366494, 0.9654063 , 0.97223052, 0.92831132, 0.92330876,\n",
       "       0.97312795, 0.93615168, 0.9515975 , 0.97502774, 0.97640422])"
      ]
     },
     "execution_count": 14,
     "metadata": {},
     "output_type": "execute_result"
    }
   ],
   "source": [
    "cross_val_score"
   ]
  },
  {
   "cell_type": "code",
   "execution_count": 15,
   "id": "7b5e263d",
   "metadata": {},
   "outputs": [],
   "source": [
    "r2_val=cross_val_score.mean()"
   ]
  },
  {
   "cell_type": "code",
   "execution_count": 16,
   "id": "f88166db",
   "metadata": {},
   "outputs": [],
   "source": [
    "start = time.time() #start the timer\n",
    "etr.fit(X_train, y_train)\n",
    "end = time.time() #end the timer"
   ]
  },
  {
   "cell_type": "code",
   "execution_count": 17,
   "id": "b70de994",
   "metadata": {},
   "outputs": [
    {
     "name": "stdout",
     "output_type": "stream",
     "text": [
      "Total Computaional Time (S):  0.2863802909851074\n"
     ]
    }
   ],
   "source": [
    "run_time=(end - start)\n",
    "print(\"Total Computaional Time (S): \", run_time) #runtime in seconds"
   ]
  },
  {
   "cell_type": "code",
   "execution_count": 18,
   "id": "3c4aa88d",
   "metadata": {},
   "outputs": [],
   "source": [
    "y_train_pred = etr.predict(X_train)"
   ]
  },
  {
   "cell_type": "code",
   "execution_count": 19,
   "id": "e6a89705",
   "metadata": {},
   "outputs": [],
   "source": [
    "y_test_pred = etr.predict(X_test)"
   ]
  },
  {
   "cell_type": "markdown",
   "id": "e8eb9c09",
   "metadata": {},
   "source": [
    "#### Model Evaluation"
   ]
  },
  {
   "cell_type": "markdown",
   "id": "b8ef3478",
   "metadata": {},
   "source": [
    "##### Train Model"
   ]
  },
  {
   "cell_type": "code",
   "execution_count": 20,
   "id": "40b06718",
   "metadata": {},
   "outputs": [
    {
     "name": "stdout",
     "output_type": "stream",
     "text": [
      "R2 of the Train Model = 0.9999999999408555\n"
     ]
    }
   ],
   "source": [
    "r2trn = r2_score(y_train, y_train_pred)\n",
    "print(\"R2 of the Train Model =\", r2trn)"
   ]
  },
  {
   "cell_type": "code",
   "execution_count": 21,
   "id": "1f7d1657",
   "metadata": {},
   "outputs": [
    {
     "name": "stdout",
     "output_type": "stream",
     "text": [
      "Mean Square Error of Train Model = 2.445652173800276e-10\n"
     ]
    }
   ],
   "source": [
    "msetrn = metrics.mean_squared_error(y_train, y_train_pred)\n",
    "print(\"Mean Square Error of Train Model =\", msetrn)"
   ]
  },
  {
   "cell_type": "code",
   "execution_count": 22,
   "id": "6766ce14",
   "metadata": {},
   "outputs": [
    {
     "name": "stdout",
     "output_type": "stream",
     "text": [
      "RMSE of the Train Model = 1.5638581053920065e-05\n"
     ]
    }
   ],
   "source": [
    "rmsetrn = msetrn**0.5\n",
    "print(\"RMSE of the Train Model =\", rmsetrn)"
   ]
  },
  {
   "cell_type": "code",
   "execution_count": 23,
   "id": "1716de58",
   "metadata": {},
   "outputs": [
    {
     "name": "stdout",
     "output_type": "stream",
     "text": [
      "Mean Absolute Error of Train Model = 8.152174041412118e-07\n"
     ]
    }
   ],
   "source": [
    "maetrn = metrics.mean_absolute_error(y_train, y_train_pred)\n",
    "print(\"Mean Absolute Error of Train Model =\", maetrn)"
   ]
  },
  {
   "cell_type": "markdown",
   "id": "3e03b8df",
   "metadata": {},
   "source": [
    "##### Validation Model"
   ]
  },
  {
   "cell_type": "code",
   "execution_count": 24,
   "id": "5ce57643",
   "metadata": {},
   "outputs": [
    {
     "name": "stdout",
     "output_type": "stream",
     "text": [
      "R2 of the Validation Model = 0.9515230915100072\n"
     ]
    }
   ],
   "source": [
    "print(\"R2 of the Validation Model =\", r2_val) "
   ]
  },
  {
   "cell_type": "markdown",
   "id": "50629205",
   "metadata": {},
   "source": [
    "##### Test Model"
   ]
  },
  {
   "cell_type": "code",
   "execution_count": 25,
   "id": "857222e1",
   "metadata": {},
   "outputs": [
    {
     "name": "stdout",
     "output_type": "stream",
     "text": [
      "R2 of the Test Model = 0.9593804405841084\n"
     ]
    }
   ],
   "source": [
    "r2tst = r2_score(y_test, y_test_pred)\n",
    "print(\"R2 of the Test Model =\", r2tst)"
   ]
  },
  {
   "cell_type": "code",
   "execution_count": 26,
   "id": "4d2c6b4e",
   "metadata": {},
   "outputs": [
    {
     "name": "stdout",
     "output_type": "stream",
     "text": [
      "Mean Square Error of Test Model = 0.160743026324865\n"
     ]
    }
   ],
   "source": [
    "msetst = metrics.mean_squared_error(y_test, y_test_pred)\n",
    "print(\"Mean Square Error of Test Model =\", msetst)"
   ]
  },
  {
   "cell_type": "code",
   "execution_count": 27,
   "id": "04b952e8",
   "metadata": {},
   "outputs": [
    {
     "name": "stdout",
     "output_type": "stream",
     "text": [
      "RMSE of the Test Model = 0.4009277071054893\n"
     ]
    }
   ],
   "source": [
    "rmsetst = msetst**0.5\n",
    "print(\"RMSE of the Test Model =\", rmsetst)"
   ]
  },
  {
   "cell_type": "code",
   "execution_count": 28,
   "id": "578fc564",
   "metadata": {},
   "outputs": [
    {
     "name": "stdout",
     "output_type": "stream",
     "text": [
      "Mean Absolute Error of Test Model = 0.22932383783783758\n"
     ]
    }
   ],
   "source": [
    "maetst = metrics.mean_absolute_error(y_test, y_test_pred)\n",
    "print(\"Mean Absolute Error of Test Model =\", maetst)"
   ]
  },
  {
   "cell_type": "code",
   "execution_count": null,
   "id": "93b1dec1",
   "metadata": {},
   "outputs": [],
   "source": []
  }
 ],
 "metadata": {
  "kernelspec": {
   "display_name": "Python 3 (ipykernel)",
   "language": "python",
   "name": "python3"
  },
  "language_info": {
   "codemirror_mode": {
    "name": "ipython",
    "version": 3
   },
   "file_extension": ".py",
   "mimetype": "text/x-python",
   "name": "python",
   "nbconvert_exporter": "python",
   "pygments_lexer": "ipython3",
   "version": "3.9.12"
  }
 },
 "nbformat": 4,
 "nbformat_minor": 5
}
